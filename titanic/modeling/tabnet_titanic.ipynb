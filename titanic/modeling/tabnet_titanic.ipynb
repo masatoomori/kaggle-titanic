{
 "cells": [
  {
   "cell_type": "code",
   "execution_count": null,
   "id": "bdd4c8a7-b92d-49b3-adfd-cc904cecdb8e",
   "metadata": {},
   "outputs": [],
   "source": [
    "import os"
   ]
  },
  {
   "cell_type": "code",
   "execution_count": null,
   "id": "fc83cf69-d5e2-4001-b05f-adc21ffeee53",
   "metadata": {},
   "outputs": [],
   "source": [
    "import pandas as pd\n",
    "from sklearn.model_selection import train_test_split\n",
    "import matplotlib.pyplot as plt\n",
    "import matplotlib.ticker as ticker\n",
    "import seaborn as sns\n",
    "\n",
    "import torch\n",
    "from pytorch_tabnet.pretraining import TabNetPretrainer\n",
    "from pytorch_tabnet.tab_model import TabNetRegressor\n",
    "from pytorch_tabnet.tab_model import TabNetClassifier\n",
    "\n",
    "sns.set()\n",
    "sns.set_style(\"whitegrid\", {'grid.linestyle': '--'})\n",
    "sns.set_context(\"paper\", 1.5, {\"lines.linewidth\": 4})\n",
    "sns.set_palette(\"winter_r\", 8, 1)\n",
    "sns.set('talk', 'whitegrid', 'dark', font_scale=1., rc={\"lines.linewidth\": 2, 'grid.linestyle': '--'})"
   ]
  },
  {
   "cell_type": "code",
   "execution_count": null,
   "id": "2be3ec3c-3d4c-4009-9739-1ca299fa8396",
   "metadata": {},
   "outputs": [],
   "source": [
    "DATA_PATH = os.path.join(os.pardir, 'input', 'preprocessed')\n",
    "MODELING_DATA_FILE = os.path.join(DATA_PATH, 'modeling.csv')\n",
    "\n",
    "SEED = 22\n",
    "N_STEPS = 3\n",
    "\n",
    "TARGET_COL = 'Survived'\n",
    "FEATURE_COLS = ['Pclass', 'Age', 'SibSp', 'Parch', 'Fare', 'in_cabin', 'cabin_shared', 'familySize', 'is_alone', 'is_large_family',\n",
    "                'salutation_impact', 'is_family_boy', 'golden_ticket', 'fare_med', 'high_fare', 'Embarked_n']"
   ]
  },
  {
   "cell_type": "code",
   "execution_count": null,
   "id": "f60ab63b-d59e-4f05-898d-3b805690a78e",
   "metadata": {},
   "outputs": [],
   "source": [
    "df_modeling = pd.read_csv(MODELING_DATA_FILE)\n",
    "\n",
    "df_modeling = df_modeling[[TARGET_COL] + FEATURE_COLS]\n",
    "\n",
    "df_modeling"
   ]
  },
  {
   "cell_type": "markdown",
   "id": "f5ad6faf-5dc1-4ad5-b6ef-df600cbcfe5c",
   "metadata": {},
   "source": [
    "Label Encoding"
   ]
  },
  {
   "cell_type": "code",
   "execution_count": null,
   "id": "ad91aab4-95cd-46f1-8591-fcb128afde5f",
   "metadata": {},
   "outputs": [],
   "source": [
    "# le = dict()\n",
    "# for col in df_modeling.columns:\n",
    "#     le_ = preprocessing.LabelEncoder()\n",
    "#     le_.fit(df_modeling[col])\n",
    "#     df_modeling[col] = le_.transform(df_modeling[col])\n",
    "#     le.update({col: le_})\n",
    "\n",
    "# df_modeling"
   ]
  },
  {
   "cell_type": "code",
   "execution_count": null,
   "id": "82a5a0be-17f5-4aa7-9830-47d2312485fb",
   "metadata": {},
   "outputs": [],
   "source": [
    "# def label_decode(df):\n",
    "#     for col in df.columns:\n",
    "#         df[col] = le[col].inverse_transform(df[col])\n",
    "#     return df\n",
    "\n",
    "# df_modeling_orig = label_decode(df_modeling)\n",
    "# df_modeling_orig"
   ]
  },
  {
   "cell_type": "code",
   "execution_count": null,
   "id": "86698081-b524-45c0-8cf6-ac2c8cfecdd3",
   "metadata": {},
   "outputs": [],
   "source": [
    "X = df_modeling.drop(TARGET_COL,axis=1)\n",
    "y = df_modeling[TARGET_COL]\n",
    "\n",
    "from sklearn.model_selection import train_test_split\n",
    "(X_train, X_valid, y_train, y_valid) = train_test_split(X, y, test_size=0.2, random_state=0)"
   ]
  },
  {
   "cell_type": "code",
   "execution_count": null,
   "id": "b6ab507a-ec4f-405b-a4d5-efddd4869dbf",
   "metadata": {},
   "outputs": [],
   "source": [
    "# cat_dims = list()\n",
    "\n",
    "# for col, le_ in le.items():\n",
    "#     if col == 'Survived':\n",
    "#         pass\n",
    "#     print(col, len(le_.classes_))\n",
    "#     cat_dims.append(len(le_.classes_))"
   ]
  },
  {
   "cell_type": "markdown",
   "id": "6600cf7c-f6f0-4715-935d-77ee53966b2f",
   "metadata": {},
   "source": [
    "Pretraininig"
   ]
  },
  {
   "cell_type": "code",
   "execution_count": null,
   "id": "66ed76fd-36d7-430e-9701-db6a0460dd56",
   "metadata": {},
   "outputs": [],
   "source": [
    "tabnet_params = dict(n_d=8, n_a=8, n_steps=N_STEPS, gamma=1.3, n_independent=2, n_shared=2, \n",
    "                     seed=SEED, lambda_sparse=1e-3,\n",
    "                     optimizer_fn=torch.optim.Adam, optimizer_params=dict(lr=2e-2),\n",
    "                     mask_type=\"entmax\",\n",
    "                     scheduler_params=dict(mode=\"min\", patience=5, min_lr=1e-5, factor=0.9,),\n",
    "                     scheduler_fn=torch.optim.lr_scheduler.ReduceLROnPlateau,\n",
    "                     verbose=10\n",
    "                    )\n",
    "\n",
    "pretrainer = TabNetPretrainer(**tabnet_params)\n",
    "\n",
    "pretrainer.fit(\n",
    "    X_train=X_train.values,\n",
    "    eval_set=[X_train.values],\n",
    "    max_epochs=200, patience=20, batch_size=256, virtual_batch_size=128, num_workers=1, drop_last=True\n",
    ")"
   ]
  },
  {
   "cell_type": "markdown",
   "id": "aad69e8a-7d37-4fb2-a164-fce774c3e148",
   "metadata": {},
   "source": [
    "Main Training"
   ]
  },
  {
   "cell_type": "code",
   "execution_count": null,
   "id": "66425b07-8921-40a9-b9cf-bc364ee538f1",
   "metadata": {},
   "outputs": [],
   "source": [
    "tabnet_params = dict(n_d=8, n_a=8, n_steps=3, gamma=1.3, n_independent=2, n_shared=2,\n",
    "                     seed=SEED, lambda_sparse=1e-3,\n",
    "                     optimizer_fn=torch.optim.Adam,\n",
    "                     optimizer_params=dict(lr=2e-2, weight_decay=1e-5),\n",
    "                     mask_type=\"entmax\",\n",
    "                     scheduler_params=dict(max_lr=0.05, steps_per_epoch=int(X_train.shape[0] / 256), epochs=200, is_batch_level=True),\n",
    "                     scheduler_fn=torch.optim.lr_scheduler.OneCycleLR,\n",
    "                     verbose=10,\n",
    "                     # cat_idxs=cat_idxs,     # comment out when Unsupervised\n",
    "                     # cat_dims=cat_dims,     # comment out when Unsupervised\n",
    "                     cat_emb_dim=1          # comment out when Unsupervised\n",
    "                    )\n",
    "\n",
    "model = TabNetClassifier(**tabnet_params)\n",
    "\n",
    "model.fit(X_train=X_train.values,\n",
    "          y_train=y_train.values,\n",
    "          eval_set=[(X_train.values, y_train.values), (X_valid.values, y_valid.values)],\n",
    "          eval_name = ['train', 'valid'],\n",
    "          eval_metric = ['auc', 'accuracy'],\n",
    "          max_epochs=100,\n",
    "          patience=20, batch_size=256, virtual_batch_size=128,\n",
    "          num_workers=0, drop_last=False,\n",
    "          from_unsupervised=pretrainer # comment out when Unsupervised\n",
    "         )"
   ]
  },
  {
   "cell_type": "markdown",
   "id": "40550f72-1075-4b64-b4fe-880be2925f42",
   "metadata": {},
   "source": [
    "Result"
   ]
  },
  {
   "cell_type": "code",
   "execution_count": null,
   "id": "c3d4eee0-e89d-414c-b109-43fcf757128a",
   "metadata": {},
   "outputs": [],
   "source": [
    "df_feature = pd.DataFrame(model.feature_importances_, index=FEATURE_COLS, columns=['feature_importance'])\n",
    "df_feature.sort_values(by='feature_importance', ascending=True, inplace=True)\n",
    "df_feature.plot(kind='barh', figsize=(12, 12), legend=False)"
   ]
  },
  {
   "cell_type": "code",
   "execution_count": null,
   "id": "de954c55-b29d-47fa-bf6f-087153ab8438",
   "metadata": {},
   "outputs": [],
   "source": [
    "# Mask(Local interpretability)\n",
    "# このMaskはdecision（どの特徴量を使うか決定）するたびに作成される\n",
    "# 横軸は特徴量\n",
    "\n",
    "explain_matrix, masks = model.explain(X_valid.values)\n",
    "\n",
    "fig, axs = plt.subplots(1, N_STEPS, figsize=(20, 20))\n",
    "\n",
    "for i in range(N_STEPS):\n",
    "    axs[i].imshow(masks[i][:25])\n",
    "    axs[i].set_title('mask {}'.format(i))\n",
    "    axs[i].set_xticklabels(FEATURE_COLS, rotation=90)\n",
    "    axs[i].xaxis.set_major_locator(ticker.FixedLocator(range(len(FEATURE_COLS))))"
   ]
  },
  {
   "cell_type": "code",
   "execution_count": null,
   "id": "b42dca19-4aa5-487e-b6ae-fb51cedf6dc1",
   "metadata": {},
   "outputs": [],
   "source": [
    "y_pred = model.predict(X_valid.values)\n",
    "\n",
    "y_pred"
   ]
  },
  {
   "cell_type": "code",
   "execution_count": null,
   "id": "876a868a-162f-415d-9c9e-3590fdc6b2f7",
   "metadata": {},
   "outputs": [],
   "source": [
    "from sklearn.metrics import accuracy_score\n",
    "accuracy_score(y_pred, y_valid.values)"
   ]
  },
  {
   "cell_type": "code",
   "execution_count": null,
   "id": "f1d9c690",
   "metadata": {},
   "outputs": [],
   "source": [
    "plt.plot(model.history['valid_auc'],)"
   ]
  }
 ],
 "metadata": {
  "kernelspec": {
   "display_name": "Python 3 (ipykernel)",
   "language": "python",
   "name": "python3"
  },
  "language_info": {
   "codemirror_mode": {
    "name": "ipython",
    "version": 3
   },
   "file_extension": ".py",
   "mimetype": "text/x-python",
   "name": "python",
   "nbconvert_exporter": "python",
   "pygments_lexer": "ipython3",
   "version": "3.9.7"
  }
 },
 "nbformat": 4,
 "nbformat_minor": 5
}
